{
 "cells": [
  {
   "cell_type": "markdown",
   "metadata": {},
   "source": [
    "## Load historical IV"
   ]
  },
  {
   "cell_type": "code",
   "execution_count": 305,
   "metadata": {},
   "outputs": [
    {
     "data": {
      "text/plain": [
       "'Foot Locker, Inc.'"
      ]
     },
     "execution_count": 305,
     "metadata": {},
     "output_type": "execute_result"
    }
   ],
   "source": [
    "import yfinance as yf\n",
    "import pandas as pd\n",
    "\n",
    "ticker = yf.Ticker('FL')  #PRX.AS ASML.AS\n",
    "df = ticker.history(period='1D', interval=\"1d\")\n",
    "ticker.info[\"longName\"]"
   ]
  },
  {
   "cell_type": "code",
   "execution_count": 306,
   "metadata": {},
   "outputs": [],
   "source": [
    "price = df[\"Close\"][0]"
   ]
  },
  {
   "cell_type": "code",
   "execution_count": 307,
   "metadata": {},
   "outputs": [
    {
     "data": {
      "text/plain": [
       "94510304"
      ]
     },
     "execution_count": 307,
     "metadata": {},
     "output_type": "execute_result"
    }
   ],
   "source": [
    "shares = ticker.info[\"sharesOutstanding\"]\n",
    "shares"
   ]
  },
  {
   "cell_type": "code",
   "execution_count": 308,
   "metadata": {},
   "outputs": [
    {
     "data": {
      "text/plain": [
       "1680000000.0"
      ]
     },
     "execution_count": 308,
     "metadata": {},
     "output_type": "execute_result"
    }
   ],
   "source": [
    "ticker.balance_sheet.T[\"Cash\"].iloc[1]"
   ]
  },
  {
   "cell_type": "markdown",
   "metadata": {},
   "source": [
    "## Financials"
   ]
  },
  {
   "cell_type": "code",
   "execution_count": 309,
   "metadata": {},
   "outputs": [
    {
     "data": {
      "text/plain": [
       "804000000.0"
      ]
     },
     "execution_count": 309,
     "metadata": {},
     "output_type": "execute_result"
    }
   ],
   "source": [
    "cash = ticker.balance_sheet.T[\"Cash\"].iloc[0]\n",
    "if math.isnan(cash):\n",
    "    cash = ticker.balance_sheet.T[\"Cash\"].iloc[1]\n",
    "cash"
   ]
  },
  {
   "cell_type": "code",
   "execution_count": 310,
   "metadata": {},
   "outputs": [
    {
     "data": {
      "text/html": [
       "<div>\n",
       "<style scoped>\n",
       "    .dataframe tbody tr th:only-of-type {\n",
       "        vertical-align: middle;\n",
       "    }\n",
       "\n",
       "    .dataframe tbody tr th {\n",
       "        vertical-align: top;\n",
       "    }\n",
       "\n",
       "    .dataframe thead th {\n",
       "        text-align: right;\n",
       "    }\n",
       "</style>\n",
       "<table border=\"1\" class=\"dataframe\">\n",
       "  <thead>\n",
       "    <tr style=\"text-align: right;\">\n",
       "      <th></th>\n",
       "      <th></th>\n",
       "      <th>Net Income</th>\n",
       "    </tr>\n",
       "  </thead>\n",
       "  <tbody>\n",
       "    <tr>\n",
       "      <th>0</th>\n",
       "      <td>2019-02-02</td>\n",
       "      <td>541000000.0</td>\n",
       "    </tr>\n",
       "    <tr>\n",
       "      <th>1</th>\n",
       "      <td>2020-02-01</td>\n",
       "      <td>491000000.0</td>\n",
       "    </tr>\n",
       "    <tr>\n",
       "      <th>2</th>\n",
       "      <td>2021-01-30</td>\n",
       "      <td>323000000.0</td>\n",
       "    </tr>\n",
       "    <tr>\n",
       "      <th>3</th>\n",
       "      <td>2022-01-29</td>\n",
       "      <td>893000000.0</td>\n",
       "    </tr>\n",
       "  </tbody>\n",
       "</table>\n",
       "</div>"
      ],
      "text/plain": [
       "               Net Income\n",
       "0 2019-02-02  541000000.0\n",
       "1 2020-02-01  491000000.0\n",
       "2 2021-01-30  323000000.0\n",
       "3 2022-01-29  893000000.0"
      ]
     },
     "execution_count": 310,
     "metadata": {},
     "output_type": "execute_result"
    }
   ],
   "source": [
    "netincome_df = ticker.cashflow.T[[\"Net Income\"]]\n",
    "netincome_df = netincome_df[netincome_df[\"Net Income\"] > 0]\n",
    "netincome_df = netincome_df.sort_values(\"\")\n",
    "netincome_df = netincome_df.reset_index()\n",
    "netincome_df"
   ]
  },
  {
   "cell_type": "code",
   "execution_count": 311,
   "metadata": {},
   "outputs": [
    {
     "data": {
      "text/html": [
       "<div>\n",
       "<style scoped>\n",
       "    .dataframe tbody tr th:only-of-type {\n",
       "        vertical-align: middle;\n",
       "    }\n",
       "\n",
       "    .dataframe tbody tr th {\n",
       "        vertical-align: top;\n",
       "    }\n",
       "\n",
       "    .dataframe thead th {\n",
       "        text-align: right;\n",
       "    }\n",
       "</style>\n",
       "<table border=\"1\" class=\"dataframe\">\n",
       "  <thead>\n",
       "    <tr style=\"text-align: right;\">\n",
       "      <th></th>\n",
       "      <th>Net Income</th>\n",
       "      <th>Growth</th>\n",
       "    </tr>\n",
       "  </thead>\n",
       "  <tbody>\n",
       "    <tr>\n",
       "      <th>1</th>\n",
       "      <td>491000000.0</td>\n",
       "      <td>-0.101833</td>\n",
       "    </tr>\n",
       "    <tr>\n",
       "      <th>2</th>\n",
       "      <td>323000000.0</td>\n",
       "      <td>-0.520124</td>\n",
       "    </tr>\n",
       "    <tr>\n",
       "      <th>3</th>\n",
       "      <td>893000000.0</td>\n",
       "      <td>0.638298</td>\n",
       "    </tr>\n",
       "  </tbody>\n",
       "</table>\n",
       "</div>"
      ],
      "text/plain": [
       "    Net Income    Growth\n",
       "1  491000000.0 -0.101833\n",
       "2  323000000.0 -0.520124\n",
       "3  893000000.0  0.638298"
      ]
     },
     "execution_count": 311,
     "metadata": {},
     "output_type": "execute_result"
    }
   ],
   "source": [
    "netincome_df[\"Growth\"] = (netincome_df[\"Net Income\"] - netincome_df[\"Net Income\"].shift())/netincome_df[\"Net Income\"]\n",
    "netincome_df = netincome_df.fillna(0).iloc[1:, :][[\"Net Income\", \"Growth\"]]\n",
    "netincome_df"
   ]
  },
  {
   "cell_type": "markdown",
   "metadata": {},
   "source": [
    "## Params"
   ]
  },
  {
   "cell_type": "code",
   "execution_count": 312,
   "metadata": {},
   "outputs": [],
   "source": [
    "import math\n",
    "\n",
    "discount_rate = 0.10\n",
    "years = 50\n",
    "maturity = 15 #math.floor(years/2)\n",
    "growth = netincome_df[\"Growth\"].mean(axis=0)\n",
    "if growth >= 0.3:\n",
    "    growth = 0.3\n",
    "growth_slowdown = growth/2"
   ]
  },
  {
   "cell_type": "code",
   "execution_count": 313,
   "metadata": {},
   "outputs": [
    {
     "data": {
      "text/plain": [
       "0.005447013147039066"
      ]
     },
     "execution_count": 313,
     "metadata": {},
     "output_type": "execute_result"
    }
   ],
   "source": [
    "growth"
   ]
  },
  {
   "cell_type": "markdown",
   "metadata": {},
   "source": [
    "## Add forcast"
   ]
  },
  {
   "cell_type": "code",
   "execution_count": 314,
   "metadata": {},
   "outputs": [],
   "source": [
    "for i in range(years):\n",
    "    row ={\"Net Income\": netincome_df[\"Net Income\"].iloc[-1] * (growth+1), \"Growth\": growth}\n",
    "    rowdf = pd.DataFrame.from_records([row])\n",
    "    netincome_df = pd.concat([netincome_df, rowdf], ignore_index=True, axis=0)\n",
    "    \n",
    "    if i == maturity:\n",
    "        growth = -growth_slowdown\n",
    "\n",
    "netincome_df = netincome_df.iloc[3:, :]"
   ]
  },
  {
   "cell_type": "code",
   "execution_count": 315,
   "metadata": {},
   "outputs": [],
   "source": [
    "cashflows = netincome_df[\"Net Income\"].to_list()"
   ]
  },
  {
   "cell_type": "markdown",
   "metadata": {},
   "source": [
    "## DCF"
   ]
  },
  {
   "cell_type": "code",
   "execution_count": 316,
   "metadata": {},
   "outputs": [
    {
     "data": {
      "text/plain": [
       "115.89136752744699"
      ]
     },
     "execution_count": 316,
     "metadata": {},
     "output_type": "execute_result"
    }
   ],
   "source": [
    "import numpy_financial as npf\n",
    "\n",
    "npv = npf.npv(discount_rate, cashflows);\n",
    "value = npv + cash\n",
    "forcast_price = value/shares\n",
    "forcast_price"
   ]
  },
  {
   "cell_type": "markdown",
   "metadata": {},
   "source": [
    "## DDM"
   ]
  },
  {
   "cell_type": "code",
   "execution_count": 329,
   "metadata": {},
   "outputs": [
    {
     "data": {
      "text/plain": [
       "0.0967"
      ]
     },
     "execution_count": 329,
     "metadata": {},
     "output_type": "execute_result"
    }
   ],
   "source": [
    "exp_future_div = ticker.info[\"dividendRate\"]\n",
    "median_growth = 0.03\n",
    "risk_free_rate = 0.03\n",
    "mkt_return = .08\n",
    "MKT_Risk_prem = mkt_return - risk_free_rate\n",
    "beta = ticker.info[\"beta\"]\n",
    "COE = round(beta * MKT_Risk_prem + risk_free_rate,4)\n",
    "COE"
   ]
  },
  {
   "cell_type": "code",
   "execution_count": 330,
   "metadata": {},
   "outputs": [
    {
     "data": {
      "text/plain": [
       "23.99"
      ]
     },
     "execution_count": 330,
     "metadata": {},
     "output_type": "execute_result"
    }
   ],
   "source": [
    "fair_sharePrice = round(exp_future_div/(COE-median_growth),2)\n",
    "fair_sharePrice"
   ]
  },
  {
   "cell_type": "code",
   "execution_count": 331,
   "metadata": {},
   "outputs": [
    {
     "name": "stdout",
     "output_type": "stream",
     "text": [
      "23.99\n"
     ]
    }
   ],
   "source": [
    "ddm = 0\n",
    "if \"dividendRate\" in ticker.info and ticker.info[\"dividendRate\"] != None and \"beta\" in ticker.info:\n",
    "    exp_future_div = ticker.info[\"dividendRate\"]\n",
    "    div_growth = median_growth\n",
    "    MKT_Risk_prem = mkt_return - risk_free_rate\n",
    "    beta = ticker.info[\"beta\"]\n",
    "    COE = round(beta * MKT_Risk_prem + risk_free_rate,4)\n",
    "    ddm = round(exp_future_div/(COE-div_growth),2)\n",
    "print(ddm)"
   ]
  },
  {
   "cell_type": "code",
   "execution_count": null,
   "metadata": {},
   "outputs": [],
   "source": []
  }
 ],
 "metadata": {
  "kernelspec": {
   "display_name": "Python 3.10.4 64-bit",
   "language": "python",
   "name": "python3"
  },
  "language_info": {
   "codemirror_mode": {
    "name": "ipython",
    "version": 3
   },
   "file_extension": ".py",
   "mimetype": "text/x-python",
   "name": "python",
   "nbconvert_exporter": "python",
   "pygments_lexer": "ipython3",
   "version": "3.10.4"
  },
  "orig_nbformat": 4,
  "vscode": {
   "interpreter": {
    "hash": "767d51c1340bd893661ea55ea3124f6de3c7a262a8b4abca0554b478b1e2ff90"
   }
  }
 },
 "nbformat": 4,
 "nbformat_minor": 2
}
