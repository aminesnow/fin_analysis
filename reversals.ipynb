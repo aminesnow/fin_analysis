{
 "cells": [
  {
   "cell_type": "markdown",
   "metadata": {},
   "source": [
    "## Load historical IV"
   ]
  },
  {
   "cell_type": "code",
   "execution_count": 1,
   "metadata": {},
   "outputs": [],
   "source": [
    "import math\n",
    "import yfinance as yf\n",
    "\n",
    "ticker = yf.Ticker('^VIX')\n",
    "vix_df = ticker.history(period='15y', interval=\"1d\")"
   ]
  },
  {
   "cell_type": "markdown",
   "metadata": {},
   "source": [
    "## Helper functions"
   ]
  },
  {
   "cell_type": "code",
   "execution_count": 2,
   "metadata": {},
   "outputs": [],
   "source": [
    "from scipy.stats import norm\n",
    "\n",
    "def call_price(sp, st, r, t, vol, d):\n",
    "    d1 = (math.log(sp/st) + (r - d + ((vol**2)/2))*t)/(vol*math.sqrt(t))\n",
    "    d2 = d1 - vol*math.sqrt(t)\n",
    "    return sp*math.exp(-d*t)*norm.cdf(d1) - st*math.exp(-r*t)*norm.cdf(d2)\n",
    "\n",
    "def put_price(sp, st, r, t, vol, d):\n",
    "    d1 = (math.log(sp/st) + (r - d + ((vol**2)/2))*t)/(vol*math.sqrt(t))\n",
    "    d2 = d1 - vol*math.sqrt(t)\n",
    "    return st*math.exp(-r*t)*norm.cdf(-d2) - sp*math.exp(-d*t)*norm.cdf(-d1)\n",
    "\n",
    "def get_ticker_data(t):\n",
    "    ticker = yf.Ticker(t) # GS-PD | FP.PA | MSFT | QQQ | SPY | QLD\n",
    "    df = ticker.history(period='5y', interval=\"1d\")\n",
    "    df[\"vola\"] = vix_df[\"Close\"]\n",
    "    return df[['Open', 'Close', 'Dividends', 'vola']].reset_index().to_numpy()\n",
    "\n"
   ]
  },
  {
   "cell_type": "markdown",
   "metadata": {},
   "source": [
    "# Global params"
   ]
  },
  {
   "cell_type": "code",
   "execution_count": 34,
   "metadata": {},
   "outputs": [],
   "source": [
    "OPT_CONT_SIZE = 100\n",
    "init_cap = 1000\n",
    "rate = 0.03\n",
    "ticker = 'SPY'\n",
    "streak_threshold = 3\n",
    "change_threshold = 0.01\n",
    "\n",
    "opt_duration = 3\n"
   ]
  },
  {
   "cell_type": "code",
   "execution_count": 35,
   "metadata": {},
   "outputs": [
    {
     "name": "stdout",
     "output_type": "stream",
     "text": [
      "0.5873789600589395\n"
     ]
    }
   ],
   "source": [
    "series_data = get_ticker_data(ticker)\n",
    "\n",
    "streak = 0\n",
    "capital = init_cap\n",
    "size = 0\n",
    "opt_type = 0 # 0 call | 1 put\n",
    "prev_change = 0\n",
    "strike = 0\n",
    "\n",
    "for idx, data in enumerate(series_data):\n",
    "    date, open, close, divi, vola = data[0].date(), data[1], data[2], data[3], data[4]\n",
    "\n",
    "    if size > 0 and strike > 0:\n",
    "        if opt_type == 0:\n",
    "            prem = call_price(close, strike, rate, opt_duration-1/365,vola/100,f_divi/close)*OPT_CONT_SIZE\n",
    "            capital += size*prem\n",
    "        if opt_type == 1:\n",
    "            prem = put_price(close, strike, rate, opt_duration-1/365,vola/100,f_divi/close)*OPT_CONT_SIZE\n",
    "            capital += size*prem\n",
    "        size = 0\n",
    "        strike = 0\n",
    "\n",
    "    change = (close - open)/open\n",
    "    if prev_change*change > 0 and abs(change) >= change_threshold:\n",
    "        streak += 1\n",
    "    else:\n",
    "        streak = 0\n",
    "\n",
    "    if streak >= streak_threshold:\n",
    "        streak = 0\n",
    "        # get futures dividend\n",
    "        f_divi = 0\n",
    "        for i in range(idx+1, min(idx+opt_duration+1, len(series_data))):\n",
    "            if(series_data[i][2] != 0):\n",
    "                f_divi = series_data[i][2]\n",
    "\n",
    "        prem = 0\n",
    "        if change > 0:\n",
    "            opt_type = 1\n",
    "            strike = open*0.95\n",
    "            prem = put_price(close, strike, rate, opt_duration/365,vola/100,f_divi/close)*OPT_CONT_SIZE\n",
    "        else:\n",
    "            opt_type = 0\n",
    "            strike = open*1.05\n",
    "            prem = call_price(close, strike, rate, opt_duration/365,vola/100,f_divi/close)*OPT_CONT_SIZE\n",
    "\n",
    "        size = math.floor(capital/prem)\n",
    "        capital -= size*prem\n",
    "        \n",
    "    prev_change = change\n",
    "\n",
    "        \n",
    "\n",
    "print(capital)"
   ]
  },
  {
   "cell_type": "code",
   "execution_count": null,
   "metadata": {},
   "outputs": [],
   "source": []
  }
 ],
 "metadata": {
  "interpreter": {
   "hash": "31f2aee4e71d21fbe5cf8b01ff0e069b9275f58929596ceb00d14d90e3e16cd6"
  },
  "kernelspec": {
   "display_name": "Python 3.5.2 64-bit",
   "language": "python",
   "name": "python3"
  },
  "language_info": {
   "codemirror_mode": {
    "name": "ipython",
    "version": 3
   },
   "file_extension": ".py",
   "mimetype": "text/x-python",
   "name": "python",
   "nbconvert_exporter": "python",
   "pygments_lexer": "ipython3",
   "version": "3.5.2"
  },
  "orig_nbformat": 4
 },
 "nbformat": 4,
 "nbformat_minor": 2
}
